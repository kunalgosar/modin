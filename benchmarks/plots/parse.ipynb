{
 "cells": [
  {
   "cell_type": "code",
   "execution_count": 12,
   "metadata": {},
   "outputs": [],
   "source": [
    "import numpy as np\n",
    "import matplotlib.pyplot as plt\n",
    "import re\n",
    "import glob\n",
    "import pandas as pd\n",
    "\n",
    "%matplotlib inline"
   ]
  },
  {
   "cell_type": "markdown",
   "metadata": {},
   "source": [
    "## Regex Matching"
   ]
  },
  {
   "cell_type": "code",
   "execution_count": 2,
   "metadata": {},
   "outputs": [],
   "source": [
    "LOG_REGEX = re.compile(r'INFO:root:([A-Za-z_0-9=+ ]+): benchmarks\\/data\\/test-data-([0-9]+)-([0-9]+)\\.csv; Size: ([0-9]+) bytes; time: ([0-9.]+)s')\n",
    "group_dict = lambda matched: {\n",
    "    'name': matched.group(1),\n",
    "    'rows': int(matched.group(2)),\n",
    "    'cols': int(matched.group(3)),\n",
    "    'bytes': int(matched.group(4)),\n",
    "    'time': float(matched.group(5))\n",
    "}"
   ]
  },
  {
   "cell_type": "markdown",
   "metadata": {},
   "source": [
    "## Parsing"
   ]
  },
  {
   "cell_type": "code",
   "execution_count": 16,
   "metadata": {},
   "outputs": [],
   "source": [
    "modin_files = glob.glob('../../benchmark-results/modin-*.log')\n",
    "pandas_files = glob.glob('../../benchmark-results/pandas-*.log')"
   ]
  },
  {
   "cell_type": "code",
   "execution_count": 17,
   "metadata": {},
   "outputs": [],
   "source": [
    "modin_results = {}\n",
    "for filename in modin_files:\n",
    "    with open(filename) as f:\n",
    "        for line in f:\n",
    "            m = re.search(LOG_REGEX, line)\n",
    "            if m is None:\n",
    "                continue\n",
    "            data = group_dict(m)\n",
    "            if data['name'] not in modin_results:\n",
    "                modin_results[data['name']] = {}\n",
    "            if data['bytes'] not in modin_results[data['name']]:\n",
    "                modin_results[data['name']][data['bytes']] = []\n",
    "            modin_results[data['name']][data['bytes']].append(data['time'])\n",
    "\n",
    "    for k in modin_results:\n",
    "        for k2 in modin_results[k]:\n",
    "            modin_results[k][k2] = np.mean(modin_results[k][k2])"
   ]
  },
  {
   "cell_type": "code",
   "execution_count": 18,
   "metadata": {},
   "outputs": [],
   "source": [
    "pandas_results = {}\n",
    "for filename in pandas_files:\n",
    "    with open(filename) as f:\n",
    "        for line in f:\n",
    "            m = re.search(LOG_REGEX, line)\n",
    "            if m is None:\n",
    "                continue\n",
    "            data = group_dict(m)\n",
    "            if data['name'] not in pandas_results:\n",
    "                pandas_results[data['name']] = {}\n",
    "            if data['bytes'] not in pandas_results[data['name']]:\n",
    "                pandas_results[data['name']][data['bytes']] = []\n",
    "            pandas_results[data['name']][data['bytes']].append(data['time'])\n",
    "\n",
    "    for k in pandas_results:\n",
    "        for k2 in pandas_results[k]:\n",
    "            pandas_results[k][k2] = np.mean(pandas_results[k][k2])"
   ]
  },
  {
   "cell_type": "code",
   "execution_count": 6,
   "metadata": {},
   "outputs": [],
   "source": [
    "for op in pandas_results.keys():\n",
    "    modin_data = modin_results[op]\n",
    "    modin_x = modin_data.keys()\n",
    "    modin_y = [modin_data[k] for k in modin_x]\n",
    "    modin_x = [x/1024/1024 for x in modin_x] # convert to MB\n",
    "\n",
    "    pandas_data = pandas_results[op]\n",
    "    pandas_x = pandas_data.keys()\n",
    "    pandas_y = [pandas_data[k] for k in pandas_x]\n",
    "    pandas_x = [x/1024/1024 for x in pandas_x]\n",
    "\n",
    "    plt.scatter(pandas_x, pandas_y, c='b', label='pandas')\n",
    "    plt.scatter(modin_x, modin_y, c='r', label='modin')\n",
    "    plt.legend(loc='upper left')\n",
    "    plt.title(op)\n",
    "    plt.xlabel('Data Size (MB)')\n",
    "    plt.ylabel('Time taken (s)')\n",
    "    plt.savefig(op.replace(\" \", \"_\") + \".png\")\n",
    "    plt.close()"
   ]
  },
  {
   "cell_type": "code",
   "execution_count": 21,
   "metadata": {},
   "outputs": [
    {
     "data": {
      "image/png": "[encoded data removed]",
      "text/plain": [
       "<Figure size 720x576 with 1 Axes>"
      ]
     },
     "metadata": {},
     "output_type": "display_data"
    }
   ],
   "source": [
    "pandas_data = {}\n",
    "modin_data = {}\n",
    "for op in pandas_results.keys():\n",
    "    pandas_op_data = pandas_results[op]\n",
    "    modin_op_data = modin_results[op]\n",
    "    common_data_sizes = set.intersection(set(pandas_op_data.keys()), set(modin_op_data.keys()))\n",
    "\n",
    "    pandas_data[op] = np.mean([pandas_op_data[k] for k in common_data_sizes])\n",
    "    modin_data[op] = np.mean([modin_op_data[k] for k in common_data_sizes])\n",
    "\n",
    "keys = list(pandas_data.keys())\n",
    "df = pd.DataFrame({\n",
    "    'Pandas Operations': keys,\n",
    "    'pandas': [pandas_data[k] for k in keys],\n",
    "    'modin': [modin_data[k] for k in keys]\n",
    "}).set_index('Pandas Operations', drop=True)\n",
    "\n",
    "df.plot(kind='bar', logy=True, figsize=(10,8))\n",
    "plt.title(\"Pandas Arithmetic Operations\")\n",
    "plt.ylabel(\"Time (s) in log\")\n",
    "plt.savefig('arithmetic_operations.png')"
   ]
  },
  {
   "cell_type": "code",
   "execution_count": null,
   "metadata": {},
   "outputs": [],
   "source": []
  }
 ],
 "metadata": {
  "kernelspec": {
   "display_name": "Python [default]",
   "language": "python",
   "name": "python3"
  },
  "language_info": {
   "codemirror_mode": {
    "name": "ipython",
    "version": 3
   },
   "file_extension": ".py",
   "mimetype": "text/x-python",
   "name": "python",
   "nbconvert_exporter": "python",
   "pygments_lexer": "ipython3",
   "version": "3.6.6"
  }
 },
 "nbformat": 4,
 "nbformat_minor": 2
}
